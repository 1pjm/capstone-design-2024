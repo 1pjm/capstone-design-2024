{
  "nbformat": 4,
  "nbformat_minor": 0,
  "metadata": {
    "colab": {
      "provenance": []
    },
    "kernelspec": {
      "name": "python3",
      "display_name": "Python 3"
    },
    "language_info": {
      "name": "python"
    }
  },
  "cells": [
    {
      "cell_type": "code",
      "execution_count": 87,
      "metadata": {
        "id": "ki2aQGUyMKr4"
      },
      "outputs": [],
      "source": [
        "import pandas as pd\n",
        "df = pd.read_csv('/content/식품성분표_10개정판_-_1_ (1).csv')"
      ]
    },
    {
      "cell_type": "code",
      "source": [
        "def calculate_energy_requirement(gender, age, weight, height, activity_level):\n",
        "    if gender == '남성':\n",
        "        energy = 662 - (9.53 * age) + activity_level * (15.91 * weight + 539.6 * height)\n",
        "    elif gender == '여성':\n",
        "        energy = 354 - (6.91 * age) + activity_level * (9.36 * weight + 726 * height)\n",
        "    else:\n",
        "        print(\"잘못된 성별 입력입니다.\")\n",
        "        return None\n",
        "\n",
        "    return energy\n",
        "\n",
        "def main():\n",
        "    gender = input(\"성별을 입력하세요 (남성 또는 여성): \")\n",
        "    age = int(input(\"나이를 입력하세요: \"))\n",
        "    weight = float(input(\"체중을 입력하세요 (kg): \"))\n",
        "    height = float(input(\"신장을 입력하세요 (m): \"))\n",
        "    activity_level = float(input(\"활동 수준을 입력하세요 (1.0: 비활동적, 1.11: 저활동적, 1.25: 활동적, 1.48: 매우 활동적): \"))\n",
        "\n",
        "    energy_requirement = calculate_energy_requirement(gender, age, weight, height, activity_level)\n",
        "    if energy_requirement:\n",
        "        print(f\"{gender}의 에너지 권장 섭취량은 {energy_requirement:.2f} kcal입니다.\")\n",
        "# 프로그램 실행\n",
        "if __name__ == \"__main__\":\n",
        "    main()"
      ],
      "metadata": {
        "id": "AJVsv6LdM6XE",
        "colab": {
          "base_uri": "https://localhost:8080/"
        },
        "outputId": "a5d37d48-4745-4430-c56a-af4024c78b66"
      },
      "execution_count": 88,
      "outputs": [
        {
          "output_type": "stream",
          "name": "stdout",
          "text": [
            "성별을 입력하세요 (남성 또는 여성): 남성\n",
            "나이를 입력하세요: 25\n",
            "체중을 입력하세요 (kg): 75\n",
            "신장을 입력하세요 (m): 175\n",
            "활동 수준을 입력하세요 (1.0: 비활동적, 1.11: 저활동적, 1.25: 활동적, 1.48: 매우 활동적): 1.25\n",
            "남성의 에너지 권장 섭취량은 119952.81 kcal입니다.\n"
          ]
        }
      ]
    },
    {
      "cell_type": "code",
      "source": [
        "def preprocess_data(personal_info):\n",
        "    # 범주형 데이터 인코딩\n",
        "    categorical_features = ['고혈압', '위암', '대장암', '고지혈증', '당뇨병']\n",
        "    for feature in categorical_features:\n",
        "        personal_info[feature] = int(input(f\"{feature} 유무를 입력하세요 (1: 있음, 0: 없음): \"))\n",
        "\n",
        "    return personal_info\n",
        "\n",
        "def analyze_weekly_meals(weekly_meals):\n",
        "    total_nutrients = {\n",
        "        '단백질': 0,\n",
        "        '지방': 0,\n",
        "        '탄수화물': 0,\n",
        "        '칼슘': 0,\n",
        "        '철분': 0,\n",
        "        '에너지' : 0,\n",
        "        '인' : 0,\n",
        "        '비타민C' : 0\n",
        "        # 다른 영양소들에 대해서도 초기화\n",
        "    }\n",
        "\n",
        "    for meal in weekly_meals:\n",
        "        for nutrient, amount in meal.items():\n",
        "            total_nutrients[nutrient] += amount\n",
        "\n",
        "    return total_nutrients\n",
        "\n",
        "def main():\n",
        "    # 사용자 입력 받기\n",
        "    personal_info = {\n",
        "        '나이': int(input(\"나이를 입력하세요: \")),\n",
        "        '성별': input(\"성별을 입력하세요 (남자/여자): \"),\n",
        "        '키': float(input(\"키를 입력하세요 (cm): \")),\n",
        "        '몸무게': float(input(\"몸무게를 입력하세요 (kg): \")),\n",
        "        'BMI지수': float(input(\"BMI 지수를 입력하세요: \")),\n",
        "        '고혈압': 0,\n",
        "        '위암': 0,\n",
        "        '대장암': 0,\n",
        "        '고지혈증': 0,\n",
        "        '당뇨병': 0\n",
        "    }\n",
        "    personal_info = preprocess_data(personal_info)\n",
        "\n",
        "    weekly_meals = []\n",
        "    for day in range(1, 8):\n",
        "        print(f\"Day {day}:\")\n",
        "        meal = {\n",
        "            '단백질': float(input(\"단백질을 섭취한 양 (g): \")),\n",
        "            '지방': float(input(\"지방을 섭취한 양 (g): \")),\n",
        "            '탄수화물': float(input(\"탄수화물을 섭취한 양 (g): \")),\n",
        "            '칼슘': float(input(\"칼슘을 섭취한 양 (mg): \")),\n",
        "            '철분': float(input(\"철분을 섭취한 양 (mg): \")),\n",
        "            # ... 다른 영양소들에 대해서도 입력 받아야 함\n",
        "        }\n",
        "        weekly_meals.append(meal)\n",
        "\n",
        "    # 식단 분석\n",
        "    analyzed_nutrients = analyze_weekly_meals(weekly_meals)\n",
        "\n",
        "    # 결과 출력\n",
        "    print(\"\\n일주일간의 영양소 섭취량:\")\n",
        "    for nutrient, amount in analyzed_nutrients.items():\n",
        "        print(f\"{nutrient}: {amount}g\")\n",
        "\n",
        "# 프로그램 실행\n",
        "if __name__ == \"__main__\":\n",
        "    main()\n"
      ],
      "metadata": {
        "id": "gXP3rlqDMiVV",
        "colab": {
          "base_uri": "https://localhost:8080/"
        },
        "outputId": "c30859a9-aaf1-4042-83df-68d9e8742977"
      },
      "execution_count": 89,
      "outputs": [
        {
          "output_type": "stream",
          "name": "stdout",
          "text": [
            "나이를 입력하세요: 25\n",
            "성별을 입력하세요 (남자/여자): 남자\n",
            "키를 입력하세요 (cm): 175\n",
            "몸무게를 입력하세요 (kg): 75\n",
            "BMI 지수를 입력하세요: 18\n",
            "고혈압 유무를 입력하세요 (1: 있음, 0: 없음): 0\n",
            "위암 유무를 입력하세요 (1: 있음, 0: 없음): 0\n",
            "대장암 유무를 입력하세요 (1: 있음, 0: 없음): 0\n",
            "고지혈증 유무를 입력하세요 (1: 있음, 0: 없음): 0\n",
            "당뇨병 유무를 입력하세요 (1: 있음, 0: 없음): 0\n",
            "Day 1:\n",
            "단백질을 섭취한 양 (g): 50\n",
            "지방을 섭취한 양 (g): 40\n",
            "탄수화물을 섭취한 양 (g): 500\n",
            "칼슘을 섭취한 양 (mg): 40\n",
            "철분을 섭취한 양 (mg): 40\n",
            "Day 2:\n",
            "단백질을 섭취한 양 (g): 40\n",
            "지방을 섭취한 양 (g): 50\n",
            "탄수화물을 섭취한 양 (g): 1500\n",
            "칼슘을 섭취한 양 (mg): 400\n",
            "철분을 섭취한 양 (mg): 50\n",
            "Day 3:\n",
            "단백질을 섭취한 양 (g): 35\n",
            "지방을 섭취한 양 (g): 40\n",
            "탄수화물을 섭취한 양 (g): 300\n",
            "칼슘을 섭취한 양 (mg): 300\n",
            "철분을 섭취한 양 (mg): 80\n",
            "Day 4:\n",
            "단백질을 섭취한 양 (g): 80\n",
            "지방을 섭취한 양 (g): 240\n",
            "탄수화물을 섭취한 양 (g): 300\n",
            "칼슘을 섭취한 양 (mg): 100\n",
            "철분을 섭취한 양 (mg): 100\n",
            "Day 5:\n",
            "단백질을 섭취한 양 (g): 50\n",
            "지방을 섭취한 양 (g): 180\n",
            "탄수화물을 섭취한 양 (g): 280\n",
            "칼슘을 섭취한 양 (mg): 75\n",
            "철분을 섭취한 양 (mg): 75\n",
            "Day 6:\n",
            "단백질을 섭취한 양 (g): 40\n",
            "지방을 섭취한 양 (g): 300\n",
            "탄수화물을 섭취한 양 (g): 80\n",
            "칼슘을 섭취한 양 (mg): 100\n",
            "철분을 섭취한 양 (mg): 100\n",
            "Day 7:\n",
            "단백질을 섭취한 양 (g): 70\n",
            "지방을 섭취한 양 (g): 50\n",
            "탄수화물을 섭취한 양 (g): 350\n",
            "칼슘을 섭취한 양 (mg): 300\n",
            "철분을 섭취한 양 (mg): 250\n",
            "\n",
            "일주일간의 영양소 섭취량:\n",
            "단백질: 365.0g\n",
            "지방: 900.0g\n",
            "탄수화물: 3310.0g\n",
            "칼슘: 1315.0g\n",
            "철분: 695.0g\n",
            "에너지: 0g\n",
            "인: 0g\n",
            "비타민C: 0g\n"
          ]
        }
      ]
    },
    {
      "cell_type": "code",
      "source": [
        "def calculate_protein_requirement(weight):\n",
        "    protein_requirement = (0.66 / 0.9) * weight\n",
        "    return protein_requirement\n",
        "\n",
        "def main():\n",
        "    weight = float(input(\"체중을 입력하세요 (kg): \"))\n",
        "\n",
        "    protein_requirement = calculate_protein_requirement(weight)\n",
        "    print(f\"단백질의 권장 섭취량은 {protein_requirement:.2f}g입니다.\")\n",
        "\n",
        "# 프로그램 실행\n",
        "if __name__ == \"__main__\":\n",
        "    main()\n"
      ],
      "metadata": {
        "id": "1LWgM-XbMkEx",
        "colab": {
          "base_uri": "https://localhost:8080/"
        },
        "outputId": "0adfb8fc-5e86-469a-809f-56fc63e02607"
      },
      "execution_count": 90,
      "outputs": [
        {
          "output_type": "stream",
          "name": "stdout",
          "text": [
            "체중을 입력하세요 (kg): 68\n",
            "단백질의 권장 섭취량은 49.87g입니다.\n"
          ]
        }
      ]
    },
    {
      "cell_type": "code",
      "source": [
        "def calculate_calcium_requirement(weight):\n",
        "    calcium_requirement = 9.39 * weight\n",
        "    return calcium_requirement\n",
        "\n",
        "def calculate_iron_requirement(gender, weight):\n",
        "    if gender == '남성':\n",
        "        iron_requirement = (0.014 * weight) / 0.12\n",
        "    elif gender == '여성':\n",
        "        iron_requirement = (0.014 * weight + 0.5) / 0.12\n",
        "    else:\n",
        "        print(\"잘못된 성별 입력입니다.\")\n",
        "        return None\n",
        "    return iron_requirement\n",
        "\n",
        "def main():\n",
        "    gender = input(\"성별을 입력하세요 (남성 또는 여성): \")\n",
        "    weight = float(input(\"체중을 입력하세요 (kg): \"))\n",
        "\n",
        "    calcium_requirement = calculate_calcium_requirement(weight)\n",
        "    iron_requirement = calculate_iron_requirement(gender, weight)\n",
        "\n",
        "    print(f\"칼슘의 권장 섭취량은 {calcium_requirement:.2f}mg입니다.\")\n",
        "    print(f\"철의 권장 섭취량은 {iron_requirement:.2f}mg입니다.\")\n",
        "    print(\"인의 권장 섭취량은 580mg입니다.\")\n",
        "    print(\"비타민 C의 권장 섭취량은 75mg입니다.\")\n",
        "\n",
        "# 프로그램 실행\n",
        "if __name__ == \"__main__\":\n",
        "    main()\n"
      ],
      "metadata": {
        "id": "ONCPcnwGOGjb",
        "colab": {
          "base_uri": "https://localhost:8080/"
        },
        "outputId": "1124205c-7bf4-4ca3-c98b-891f269bb135"
      },
      "execution_count": 91,
      "outputs": [
        {
          "output_type": "stream",
          "name": "stdout",
          "text": [
            "성별을 입력하세요 (남성 또는 여성): 남성\n",
            "체중을 입력하세요 (kg): 75\n",
            "칼슘의 권장 섭취량은 704.25mg입니다.\n",
            "철의 권장 섭취량은 8.75mg입니다.\n",
            "인의 권장 섭취량은 580mg입니다.\n",
            "비타민 C의 권장 섭취량은 75mg입니다.\n"
          ]
        }
      ]
    },
    {
      "cell_type": "code",
      "source": [
        "import pandas as pd\n",
        "\n",
        "# CSV 파일에서 데이터 읽기\n",
        "food_data = pd.read_csv(\"/content/식품성분표_10개정판_-_1_ (1).csv\")\n",
        "\n",
        "# 데이터를 딕셔너리로 변환\n",
        "food_database = {}\n",
        "for index, row in food_data.iterrows():\n",
        "    food_name = row[\"음식명\"]\n",
        "    nutrients = {\n",
        "        \"탄수화물\": row[\"탄수화물(g)\"],\n",
        "        \"단백질\": row[\"단백질(g)\"],\n",
        "        \"지방\": row[\"지방(g)\"],\n",
        "        \"에너지\": row[\"에너지(kcal)\"]\n",
        "        # 필요한 다른 영양소들을 추가하세요\n",
        "    }\n",
        "    food_database[food_name] = nutrients\n",
        "\n",
        "# food_database 확인\n",
        "print(food_database)"
      ],
      "metadata": {
        "id": "OuZosghCbg5M",
        "colab": {
          "base_uri": "https://localhost:8080/"
        },
        "outputId": "81cefdd1-7a83-473a-ddbe-b92c13ae350f"
      },
      "execution_count": 93,
      "outputs": [
        {
          "output_type": "stream",
          "name": "stdout",
          "text": [
            "{}\n"
          ]
        }
      ]
    },
    {
      "cell_type": "code",
      "source": [
        "# calculate_daily_intake 함수 수정\n",
        "\n",
        "def calculate_nutrient_status(recommendation, daily_intake):\n",
        "    nutrient_status = {}\n",
        "    for nutrient, recommendation_amount in recommendation.items():\n",
        "        if nutrient in daily_intake:\n",
        "            status = daily_intake[nutrient] - recommendation_amount\n",
        "            if status >= 0:\n",
        "                if status <= 0.3 * recommendation_amount:\n",
        "                    nutrient_status[nutrient] = \"충분\"\n",
        "                else:\n",
        "                    nutrient_status[nutrient] = \"과잉\"\n",
        "            else:\n",
        "                nutrient_status[nutrient] = \"부족\"\n",
        "        else:\n",
        "            nutrient_status[nutrient] = \"부족\"\n",
        "    return nutrient_status\n",
        "\n",
        "\n",
        "def main():\n",
        "    # 사용자의 식단 입력\n",
        "    meal = {\n",
        "        \"시리얼,쌀\": 1,  # 예시로 임의의 음식과 그 양을 넣었습니다.\n",
        "        \"김치,갓김치\": 1,\n",
        "        \"돼지고기, 삼겹살, 삶은것\": 1,\n",
        "        # 사용자가 먹은 다른 음식들을 추가하세요\n",
        "    }\n",
        "\n",
        "    # 사용자의 권장 섭취량\n",
        "    recommendation = {\n",
        "        \"에너지\": 2500,  # 예시로 임의의 값을 넣었습니다.\n",
        "        \"단백질\": 70,\n",
        "        \"탄수화물\": 300,\n",
        "        \"지방\": 83,\n",
        "        # 사용자의 다른 영양소의 권장 섭취량을 추가하세요\n",
        "    }\n",
        "\n",
        "    # 사용자의 일상 섭취량 계산\n",
        "    daily_intake = calculate_daily_intake(meal)\n",
        "\n",
        "    # 영양소 상태 파악\n",
        "    nutrient_status = calculate_nutrient_status(recommendation, daily_intake)\n",
        "\n",
        "    print(\"\\n영양소 섭취량과 권장 섭취량 비교 결과:\")\n",
        "    for nutrient, status in nutrient_status.items():\n",
        "        print(f\"{nutrient}: {status}\")\n",
        "\n",
        "# 프로그램 실행\n",
        "if __name__ == \"__main__\":\n",
        "    main()\n"
      ],
      "metadata": {
        "id": "srzGjcSFRrzm",
        "colab": {
          "base_uri": "https://localhost:8080/"
        },
        "outputId": "2f972859-9f81-48be-a11f-739bb1bac805"
      },
      "execution_count": 96,
      "outputs": [
        {
          "output_type": "stream",
          "name": "stdout",
          "text": [
            "포함되지않은 식품은(는) 데이터베이스에 없습니다.\n",
            "포함되지않은 식품은(는) 데이터베이스에 없습니다.\n",
            "포함되지않은 식품은(는) 데이터베이스에 없습니다.\n",
            "\n",
            "영양소 섭취량과 권장 섭취량 비교 결과:\n",
            "에너지: 부족\n",
            "단백질: 부족\n",
            "탄수화물: 부족\n",
            "지방: 부족\n"
          ]
        }
      ]
    },
    {
      "cell_type": "code",
      "source": [
        "def calculate_carbohydrate_requirement(gender):\n",
        "    if gender == \"남성\":\n",
        "        carbohydrate_requirement = (224 + 325) / 2\n",
        "    elif gender == \"여성\":\n",
        "        carbohydrate_requirement = (180 + 230) / 2\n",
        "    else:\n",
        "        print(\"잘못된 성별 입력입니다.\")\n",
        "        return None\n",
        "    return carbohydrate_requirement\n",
        "\n",
        "def calculate_protein_requirement(gender):\n",
        "    if gender == \"남성\":\n",
        "        protein_requirement = 56\n",
        "    elif gender == \"여성\":\n",
        "        protein_requirement = 46\n",
        "    else:\n",
        "        print(\"잘못된 성별 입력입니다.\")\n",
        "        return None\n",
        "    return protein_requirement\n",
        "\n",
        "def calculate_fat_requirement(energy):\n",
        "    fat_requirement = energy * 0.3\n",
        "    return fat_requirement\n",
        "\n",
        "def main():\n",
        "    # 사용자의 성별\n",
        "    gender = input(\"성별을 입력하세요 (남성 또는 여성): \")\n",
        "\n",
        "    # 사용자의 몸무게와 키 입력\n",
        "    weight = float(input(\"몸무게를 kg 단위로 입력하세요: \"))\n",
        "    height = float(input(\"키를 cm 단위로 입력하세요: \"))\n",
        "\n",
        "    # 사용자의 나이 입력\n",
        "    age = int(input(\"나이를 입력하세요: \"))\n",
        "\n",
        "    # 사용자의 신체활동계수(PA) 입력\n",
        "    pa = float(input(\"신체활동계수를 입력하세요 (비활동적: 1.0, 저활동적: 1.11, 활동적: 1.25, 매우 활동적: 1.48): \"))\n",
        "\n",
        "    # 에너지 권장 섭취량 계산\n",
        "    if gender == \"남성\":\n",
        "        energy_requirement = 662 - (9.53 * age) + pa * (15.91 * weight + 539.6 * height)\n",
        "    elif gender == \"여성\":\n",
        "        energy_requirement = 354 - (6.91 * age) + pa * (9.36 * weight + 726 * height)\n",
        "    else:\n",
        "        print(\"잘못된 성별 입력입니다.\")\n",
        "        return\n",
        "\n",
        "    # 권장 섭취량 계산\n",
        "    recommendation = {\n",
        "        \"에너지\": energy_requirement,\n",
        "        \"단백질\": calculate_protein_requirement(gender),\n",
        "        \"탄수화물\": calculate_carbohydrate_requirement(gender),\n",
        "        \"지방\": calculate_fat_requirement(energy_requirement),\n",
        "    }\n",
        "\n",
        "    print(\"\\n사용자의 권장 섭취량:\")\n",
        "    for nutrient, amount in recommendation.items():\n",
        "        print(f\"{nutrient}: {amount:.2f}g 또는 kcal\")\n",
        "\n",
        "# 프로그램 실행\n",
        "if __name__ == \"__main__\":\n",
        "    main()\n"
      ],
      "metadata": {
        "id": "7rVAB6oMPMHR"
      },
      "execution_count": null,
      "outputs": []
    },
    {
      "cell_type": "code",
      "source": [
        "import pandas as pd\n",
        "\n",
        "# 데이터베이스에서 사용자 정보 가져오는 함수\n",
        "def load_user_data():\n",
        "    # 여기에 데이터베이스에서 사용자 정보를 불러오는 코드를 작성해주세요.\n",
        "    # 예를 들어, 사용자의 식단과 신체정보를 포함한 데이터프레임을 반환합니다.\n",
        "    # 사용자 정보에는 식단, 나이, 성별, 키, 몸무게, BMI, 고혈압, 위암, 대장암, 고지혈증, 당뇨병 등이 있습니다.\n",
        "\n",
        "    # 예시로 더미 데이터프레임을 반환합니다. 사용자 정보가 있다고 가정합니다.\n",
        "    user_data = {\n",
        "        '나이': [30],\n",
        "        '성별': ['남성'],\n",
        "        '키': [175],\n",
        "        '몸무게': [70],\n",
        "        'BMI': [22],\n",
        "        '고혈압': ['정상'],\n",
        "        '위암': ['없음'],\n",
        "        '대장암': ['없음'],\n",
        "        '고지혈증': ['정상'],\n",
        "        '당뇨병': ['정상']\n",
        "    }\n",
        "    return pd.DataFrame(user_data)"
      ],
      "metadata": {
        "id": "mGjh9CjWoJQo"
      },
      "execution_count": 40,
      "outputs": []
    },
    {
      "cell_type": "code",
      "source": [
        "import pandas as pd\n",
        "import numpy as np\n",
        "from sklearn.metrics.pairwise import cosine_similarity\n",
        "\n",
        "# 데이터베이스에서 사용자 정보 가져오는 함수\n",
        "def load_user_data():\n",
        "    # 여기에 데이터베이스에서 사용자 정보를 불러오는 코드를 작성해주세요.\n",
        "    # 예를 들어, 사용자의 식단과 신체정보를 포함한 데이터프레임을 반환합니다.\n",
        "    # 사용자 정보에는 식단, 나이, 성별, 키, 몸무게, BMI, 고혈압, 위암, 대장암, 고지혈증, 당뇨병 등이 있습니다.\n",
        "    # 이 예제에서는 임의의 데이터프레임을 반환하겠습니다.\n",
        "  user_data = pd.DataFrame({\n",
        "    '나이': [30],\n",
        "    '성별': ['남'],\n",
        "    '키': [170],\n",
        "    '몸무게': [70],\n",
        "    'BMI': [24.2],\n",
        "    '고혈압': [0],\n",
        "    '위암': [0],\n",
        "    '대장암': [1],\n",
        "    '고지혈증': [0],\n",
        "    '당뇨병': [1],\n",
        "    '식단': ['김치찌개, 김밥']\n",
        "})\n",
        "\n",
        "  return user_data\n",
        "\n",
        "# 사용자 간의 코사인 유사도 계산\n",
        "def calculate_cosine_similarity(user1, user2):\n",
        "    # 사용자 1과 사용자 2 간의 신체정보를 가져옵니다.\n",
        "    body_info_user1 = user1[['나이', '키', '몸무게', 'BMI', '고혈압', '위암', '대장암', '고지혈증', '당뇨병']].values.reshape(1, -1)\n",
        "    body_info_user2 = user2[['나이', '키', '몸무게', 'BMI', '고혈압', '위암', '대장암', '고지혈증', '당뇨병']].values.reshape(1, -1)\n",
        "\n",
        "    # 코사인 유사도 계산\n",
        "    similarity = cosine_similarity(body_info_user1, body_info_user2)\n",
        "    return similarity[0][0]\n",
        "\n",
        "# 사용자의 식단 추천 및 영양소 과잉/부족 확인\n",
        "def recommend_nutrition_with_weekly_meal(user_data):\n",
        "    # 데이터베이스에서 사용자 정보 불러오기\n",
        "    all_users_data = load_user_data()\n",
        "\n",
        "    # 코사인 유사도를 계산할 사용자와 다른 모든 사용자 간의 유사도 계산\n",
        "    similarities = []\n",
        "    for index, row in all_users_data.iterrows():\n",
        "        if index != user_data.name:  # 자기 자신은 제외\n",
        "            similarity = calculate_cosine_similarity(user_data, row)\n",
        "            similarities.append((index, similarity))\n",
        "\n",
        "    # 유사도에 따라 가장 유사한 사용자 선택\n",
        "    if similarities:  # 유사도가 있는 경우\n",
        "        similar_user = max(similarities, key=lambda x: x[1])[0]\n",
        "        similar_user_data = all_users_data.loc[similar_user]\n",
        "\n",
        "        # 유사한 사용자의 식단 추천\n",
        "        recommended_meal = similar_user_data['식단']\n",
        "\n",
        "\n",
        "        return recommended_nutrition, recommended_meal\n",
        "    else:\n",
        "        print(\"유사한 사용자가 없습니다.\")\n",
        "        return None, None\n",
        "\n",
        "# 사용자 정보 가져오기 (예시로 첫 번째 사용자 데이터를 사용)\n",
        "user_data = load_user_data().iloc[0]\n",
        "\n",
        "# 영양소 추천 및 일주일치 식단 제공\n",
        "recommended_nutrition, recommended_meal = recommend_nutrition_with_weekly_meal(user_data)\n",
        "\n",
        "if recommended_nutrition is not None and recommended_meal is not None:\n",
        "    print(\"영양소 추천:\", recommended_nutrition)\n",
        "    print(\"추천 식단:\", recommended_meal)\n"
      ],
      "metadata": {
        "colab": {
          "base_uri": "https://localhost:8080/"
        },
        "id": "v0-phzorpVH2",
        "outputId": "ba33a584-5558-491f-fad2-539d168d10f6"
      },
      "execution_count": 86,
      "outputs": [
        {
          "output_type": "stream",
          "name": "stdout",
          "text": [
            "유사한 사용자가 없습니다.\n"
          ]
        }
      ]
    }
  ]
}