{
  "nbformat": 4,
  "nbformat_minor": 0,
  "metadata": {
    "colab": {
      "provenance": [],
      "include_colab_link": true
    },
    "kernelspec": {
      "name": "python3",
      "display_name": "Python 3"
    },
    "language_info": {
      "name": "python"
    }
  },
  "cells": [
    {
      "cell_type": "markdown",
      "metadata": {
        "id": "view-in-github",
        "colab_type": "text"
      },
      "source": [
        "<a href=\"https://colab.research.google.com/github/1pjm/capstone-design-2024/blob/master/%EC%BA%A1%EC%8A%A4%ED%86%A4%EB%94%94%EC%9E%90%EC%9D%B8_%EC%A4%91%EA%B0%84.ipynb\" target=\"_parent\"><img src=\"https://colab.research.google.com/assets/colab-badge.svg\" alt=\"Open In Colab\"/></a>"
      ]
    },
    {
      "cell_type": "markdown",
      "source": [
        "- 사용자 정보 입력"
      ],
      "metadata": {
        "id": "kkcrwHarPp01"
      }
    },
    {
      "cell_type": "code",
      "execution_count": null,
      "metadata": {
        "id": "DXOTbgDfOu-J"
      },
      "outputs": [],
      "source": [
        "name = input(\"이름 :\")\n",
        "gender = input(\"성별(남/여) :\")\n",
        "age = float(input(\"나이(숫자만 입력) :\"))\n",
        "height = float(input(\"키(cm) :\"))\n",
        "weight = float(input(\"몸무게(kg) :\"))\n",
        "pa = float(input(\"활동지수(PA) :\"))\n",
        "\n",
        "# BMI와 EER 계산\n",
        "def calculate_bmi(height, weight):\n",
        "    return weight / ((height * 0.01) ** 2)\n",
        "\n",
        "bmi = round(calculate_bmi(height, weight), 1)\n",
        "\n",
        "def calculate_eer(height, weight, age, pa, gender):\n",
        "    if gender == '남':\n",
        "        return (662 - (9.53 * age)) + pa * ((15.91 * weight) + (539.6 * (height * 0.01)))\n",
        "    else:\n",
        "        return (354 - (6.91 * age)) + pa * ((9.36 * weight) + (726 * (height * 0.01)))\n",
        "\n",
        "eer = round(calculate_eer(height, weight, age, pa, gender), 2)\n",
        "\n",
        "# 모든 입력을 받은 후 사용자의 정보와 계산된 BMI, EER을 출력\n",
        "print('사용자 정보는', name, gender, age, '세', height, 'cm', weight, 'kg', 'BMI 지수는', bmi, '에너지 필요량(EER)은', eer, 'kcal 입니다.')\n"
      ]
    },
    {
      "cell_type": "markdown",
      "source": [
        "- 권장영양소 섭취량"
      ],
      "metadata": {
        "id": "a4MEPcg4T6x4"
      }
    },
    {
      "cell_type": "code",
      "source": [
        "# 권장 에너지 섭취량 계산 함수\n",
        "def calculate_energy_intake(age, gender, weight, height, physical_activity):\n",
        "    if gender == \"남\":\n",
        "        if physical_activity == 1.0:\n",
        "            pa_coefficient = 1.0\n",
        "        elif physical_activity == 1.11:\n",
        "            pa_coefficient = 1.11\n",
        "        elif physical_activity == 1.25:\n",
        "            pa_coefficient = 1.25\n",
        "        elif physical_activity == 1.48:\n",
        "            pa_coefficient = 1.48\n",
        "        else:\n",
        "            return None  # 잘못된 활동 수준 입력\n",
        "        return 662 - 9.53 * age + pa_coefficient * (15.91 * weight + 539.6 * (height*0.01))\n",
        "    elif gender == \"여\":\n",
        "        if physical_activity == 1.0:\n",
        "            pa_coefficient = 1.0\n",
        "        elif physical_activity == 1.12:\n",
        "            pa_coefficient = 1.12\n",
        "        elif physical_activity == 1.27:\n",
        "            pa_coefficient = 1.27\n",
        "        elif physical_activity == 1.45:\n",
        "            pa_coefficient = 1.45\n",
        "        else:\n",
        "            return None  # 잘못된 활동 수준 입력\n",
        "        return 354 - 6.91 * age + pa_coefficient * (9.36 * weight + 726 * (0.01*height))\n",
        "\n",
        "# 권장 단백질 섭취량 계산 함수\n",
        "def calculate_protein_intake(weight):\n",
        "    return (0.66 / 0.9) * weight\n",
        "\n",
        "# 권장 칼슘 섭취량 계산 함수\n",
        "def calculate_calcium_intake(weight):\n",
        "    return 9.39 * weight\n",
        "\n",
        "# 권장 인 섭취량 (일반적으로 580mg/일)\n",
        "\n",
        "# 권장 철 섭취량 계산 함수\n",
        "def calculate_iron_intake(age, gender, weight):\n",
        "    if gender == \"남\":\n",
        "        return ((0.014 * weight) / 0.12) if age < 65 else ((0.014 * weight + 0.5) / 0.12)\n",
        "    elif gender == \"여\":\n",
        "        return ((0.014 * weight) / 0.12) if age < 50 else ((0.014 * weight + 0.5) / 0.12)\n",
        "\n",
        "# 권장 티아민 섭취량 계산 함수\n",
        "def calculate_thiamin_intake(age, gender, weight):\n",
        "    if age < 65:\n",
        "        return 1.0 if gender == \"남\" else 0.9\n",
        "    else:\n",
        "        return 1.0 * (weight / 68.9) if gender == \"남\" else 1.0 * (weight / 55.9)\n",
        "\n",
        "# 권장 리보플라빈 섭취량 계산 함수\n",
        "def calculate_riboflavin_intake(age, gender, weight):\n",
        "    if age < 65:\n",
        "        return 1.3 if gender == \"남\" else 1.0\n",
        "    else:\n",
        "        return 1.3 * (weight / 68.9) if gender == \"남\" else 1.0 * (weight / 55.9)\n",
        "\n",
        "# 권장 니아신 섭취량 계산 함수\n",
        "def calculate_niacin_intake(age, gender):\n",
        "    if age < 65:\n",
        "        return 12 if gender == \"남\" else 11\n",
        "    elif age < 75:\n",
        "        return 10 if gender == \"여\" else 12\n",
        "    else:\n",
        "        return 9\n",
        "\n",
        "# 권장 비타민C 섭취량 (일반적으로 75mg/일)\n",
        "\n",
        "# 사용자 정보 입력\n",
        "age = int(input(\"나이를 입력하세요: \"))\n",
        "gender = input(\"성별을 입력하세요 (남/여): \")\n",
        "weight = float(input(\"몸무게를 입력하세요 (kg): \"))\n",
        "height = float(input(\"신장을 입력하세요 (cm): \"))\n",
        "physical_activity = float(input(\"활동 수준을 입력하세요: \"))\n",
        "\n",
        "# 권장 섭취량 계산\n",
        "recommended_nutrients = {\n",
        "    \"에너지\": calculate_energy_intake(age, gender, weight, height, physical_activity),\n",
        "    \"단백질\": round(calculate_protein_intake(weight),2),\n",
        "    \"칼슘\": calculate_calcium_intake(weight),\n",
        "    \"인\": 580,  # 일반적인 값 사용\n",
        "    \"철\": round(calculate_iron_intake(age, gender, weight),2),\n",
        "    \"티아민\": calculate_thiamin_intake(age, gender, weight),\n",
        "    \"리보플라빈\": calculate_riboflavin_intake(age, gender, weight),\n",
        "    \"니아신\": calculate_niacin_intake(age, gender),\n",
        "    \"비타민C\": 75  # 일반적인 값 사용\n",
        "}\n",
        "\n",
        "nutrient_units = {\n",
        "    \"에너지\": \"kcal\",\n",
        "    \"단백질\": \"g\",\n",
        "    \"칼슘\": \"mg\",\n",
        "    \"인\": \"mg\",\n",
        "    \"철\": \"mg\",\n",
        "    \"티아민\": \"mg\",\n",
        "    \"리보플라빈\": \"mg\",\n",
        "    \"니아신\": \"mg\",\n",
        "    \"비타민C\": \"mg\"\n",
        "}\n",
        "\n",
        "# 권장 섭취량 출력\n",
        "print(\"\\n권장 섭취량:\")\n",
        "print(\"-----------------------------\")\n",
        "for nutrient, recommended_value in recommended_nutrients.items():\n",
        "    if recommended_value is not None:\n",
        "        unit = nutrient_units.get(nutrient, \"\")\n",
        "        print(f\"{nutrient}: {recommended_value} {unit}\")\n",
        "    else:\n",
        "        print(f\"{nutrient}: 유효하지 않은 입력입니다.\")\n"
      ],
      "metadata": {
        "id": "Df3VVggxPtw_",
        "colab": {
          "base_uri": "https://localhost:8080/"
        },
        "outputId": "631456f8-cdf4-417b-a61a-f87edd301914"
      },
      "execution_count": null,
      "outputs": [
        {
          "output_type": "stream",
          "name": "stdout",
          "text": [
            "나이를 입력하세요: 27\n",
            "성별을 입력하세요 (남/여): 남\n",
            "몸무게를 입력하세요 (kg): 77\n",
            "신장을 입력하세요 (cm): 175\n",
            "활동 수준을 입력하세요: 1.48\n",
            "\n",
            "권장 섭취량:\n",
            "-----------------------------\n",
            "에너지: 3615.3576 kcal\n",
            "단백질: 56.47 g\n",
            "칼슘: 723.0300000000001 mg\n",
            "인: 580 mg\n",
            "철: 8.98 mg\n",
            "티아민: 1.0 mg\n",
            "리보플라빈: 1.3 mg\n",
            "니아신: 12 mg\n",
            "비타민C: 75 mg\n"
          ]
        }
      ]
    },
    {
      "cell_type": "markdown",
      "source": [
        "- 식단 내 영양성분 파악\n",
        " - 일일 섭취량 ( 7일치 식단의 평균 )"
      ],
      "metadata": {
        "id": "WbHdbImdWFE8"
      }
    },
    {
      "cell_type": "code",
      "source": [
        "import pandas as pd\n",
        "\n",
        "# 데이터베이스 불러오기\n",
        "food_nutrients_db1 = pd.read_excel(\"/content/식품영양성분DB_음식.xlsx\", usecols=['식품명','에너지(kcal)','단백질(g)','지방(g)','탄수화물(g)','칼슘(mg)','철(mg)','인(mg)','티아민(mg)','리보플라빈(mg)','니아신(mg)','비타민 C(mg)'])\n",
        "food_nutrients_db2 = pd.read_excel(\"/content/식품영양성분DB_가공식품.xlsx\", usecols=['식품명','에너지(kcal)','단백질(g)','지방(g)','탄수화물(g)','칼슘(mg)','철(mg)','인(mg)','티아민(mg)','리보플라빈(mg)','니아신(mg)','비타민 C(mg)'])\n",
        "\n",
        "# 데이터베이스 합치기\n",
        "food_nutrients_db = pd.concat([food_nutrients_db1, food_nutrients_db2])\n",
        "\n",
        "# 일주일치 식단 입력 받기\n",
        "def input_weekly_diet():\n",
        "    weekly_diet = []\n",
        "    for day in range(1, 8):\n",
        "        diet = input(f\"{day}일차 식단을 입력하세요 (예: 아침: 계란 후라이, 점심: 삼겹살 김치찌개, 저녁: 쌀밥 고등어구이): \")\n",
        "        weekly_diet.append(diet)\n",
        "    return weekly_diet\n",
        "\n",
        "# 식단에 포함된 음식별 영양소 분석 결과 출력\n",
        "def analyze_nutrients(weekly_diet, food_nutrients_db):\n",
        "    daily_nutrients = {key: 0 for key in ['에너지(kcal)','단백질(g)','지방(g)','탄수화물(g)','칼슘(mg)','철(mg)','인(mg)','티아민(mg)','리보플라빈(mg)','니아신(mg)','비타민 C(mg)']}\n",
        "    total_days = 0\n",
        "\n",
        "    for diet in weekly_diet:\n",
        "        foods = diet.split(', ')\n",
        "        for food in foods:\n",
        "            food_nutrients = food_nutrients_db[food_nutrients_db['식품명'] == food].iloc[:, 1:].to_dict('records')\n",
        "            if food_nutrients:\n",
        "                for key in daily_nutrients.keys():\n",
        "                    daily_nutrients[key] += food_nutrients[0].get(key, 0)\n",
        "        total_days += 1\n",
        "\n",
        "    for key, value in daily_nutrients.items():\n",
        "        daily_nutrients[key] /= total_days  # 하루치 섭취량으로 변환\n",
        "\n",
        "    return daily_nutrients\n",
        "\n",
        "# 사용자로부터 일주일치 식단 입력 받기\n",
        "weekly_diet = input_weekly_diet()\n",
        "\n",
        "# 식단에 포함된 음식별 영양소 분석 결과 출력\n",
        "daily_nutrients = analyze_nutrients(weekly_diet, food_nutrients_db)\n",
        "\n",
        "# 하루 평균 11가지 영양소 섭취량 출력\n",
        "print(\"\\n하루 평균 11가지 영양소 섭취량:\")\n",
        "for nutrient, amount in daily_nutrients.items():\n",
        "    print(f\"{nutrient}: {amount:.2f}\")"
      ],
      "metadata": {
        "colab": {
          "base_uri": "https://localhost:8080/",
          "height": 391
        },
        "id": "YyHJ7YCtUECq",
        "outputId": "985f1537-f5ef-449b-91c6-e08ad5efdd0c"
      },
      "execution_count": null,
      "outputs": [
        {
          "output_type": "error",
          "ename": "FileNotFoundError",
          "evalue": "[Errno 2] No such file or directory: '/content/식품영양성분DB_음식.xlsx'",
          "traceback": [
            "\u001b[0;31m---------------------------------------------------------------------------\u001b[0m",
            "\u001b[0;31mFileNotFoundError\u001b[0m                         Traceback (most recent call last)",
            "\u001b[0;32m<ipython-input-1-244288d6db38>\u001b[0m in \u001b[0;36m<cell line: 4>\u001b[0;34m()\u001b[0m\n\u001b[1;32m      2\u001b[0m \u001b[0;34m\u001b[0m\u001b[0m\n\u001b[1;32m      3\u001b[0m \u001b[0;31m# 데이터베이스 불러오기\u001b[0m\u001b[0;34m\u001b[0m\u001b[0;34m\u001b[0m\u001b[0m\n\u001b[0;32m----> 4\u001b[0;31m \u001b[0mfood_nutrients_db1\u001b[0m \u001b[0;34m=\u001b[0m \u001b[0mpd\u001b[0m\u001b[0;34m.\u001b[0m\u001b[0mread_excel\u001b[0m\u001b[0;34m(\u001b[0m\u001b[0;34m\"/content/식품영양성분DB_음식.xlsx\"\u001b[0m\u001b[0;34m,\u001b[0m \u001b[0musecols\u001b[0m\u001b[0;34m=\u001b[0m\u001b[0;34m[\u001b[0m\u001b[0;34m'식품명'\u001b[0m\u001b[0;34m,\u001b[0m\u001b[0;34m'에너지(kcal)'\u001b[0m\u001b[0;34m,\u001b[0m\u001b[0;34m'단백질(g)'\u001b[0m\u001b[0;34m,\u001b[0m\u001b[0;34m'지방(g)'\u001b[0m\u001b[0;34m,\u001b[0m\u001b[0;34m'탄수화물(g)'\u001b[0m\u001b[0;34m,\u001b[0m\u001b[0;34m'칼슘(mg)'\u001b[0m\u001b[0;34m,\u001b[0m\u001b[0;34m'철(mg)'\u001b[0m\u001b[0;34m,\u001b[0m\u001b[0;34m'인(mg)'\u001b[0m\u001b[0;34m,\u001b[0m\u001b[0;34m'티아민(mg)'\u001b[0m\u001b[0;34m,\u001b[0m\u001b[0;34m'리보플라빈(mg)'\u001b[0m\u001b[0;34m,\u001b[0m\u001b[0;34m'니아신(mg)'\u001b[0m\u001b[0;34m,\u001b[0m\u001b[0;34m'비타민 C(mg)'\u001b[0m\u001b[0;34m]\u001b[0m\u001b[0;34m)\u001b[0m\u001b[0;34m\u001b[0m\u001b[0;34m\u001b[0m\u001b[0m\n\u001b[0m\u001b[1;32m      5\u001b[0m \u001b[0mfood_nutrients_db2\u001b[0m \u001b[0;34m=\u001b[0m \u001b[0mpd\u001b[0m\u001b[0;34m.\u001b[0m\u001b[0mread_excel\u001b[0m\u001b[0;34m(\u001b[0m\u001b[0;34m\"/content/식품영양성분DB_가공식품.xlsx\"\u001b[0m\u001b[0;34m,\u001b[0m \u001b[0musecols\u001b[0m\u001b[0;34m=\u001b[0m\u001b[0;34m[\u001b[0m\u001b[0;34m'식품명'\u001b[0m\u001b[0;34m,\u001b[0m\u001b[0;34m'에너지(kcal)'\u001b[0m\u001b[0;34m,\u001b[0m\u001b[0;34m'단백질(g)'\u001b[0m\u001b[0;34m,\u001b[0m\u001b[0;34m'지방(g)'\u001b[0m\u001b[0;34m,\u001b[0m\u001b[0;34m'탄수화물(g)'\u001b[0m\u001b[0;34m,\u001b[0m\u001b[0;34m'칼슘(mg)'\u001b[0m\u001b[0;34m,\u001b[0m\u001b[0;34m'철(mg)'\u001b[0m\u001b[0;34m,\u001b[0m\u001b[0;34m'인(mg)'\u001b[0m\u001b[0;34m,\u001b[0m\u001b[0;34m'티아민(mg)'\u001b[0m\u001b[0;34m,\u001b[0m\u001b[0;34m'리보플라빈(mg)'\u001b[0m\u001b[0;34m,\u001b[0m\u001b[0;34m'니아신(mg)'\u001b[0m\u001b[0;34m,\u001b[0m\u001b[0;34m'비타민 C(mg)'\u001b[0m\u001b[0;34m]\u001b[0m\u001b[0;34m)\u001b[0m\u001b[0;34m\u001b[0m\u001b[0;34m\u001b[0m\u001b[0m\n\u001b[1;32m      6\u001b[0m \u001b[0;34m\u001b[0m\u001b[0m\n",
            "\u001b[0;32m/usr/local/lib/python3.10/dist-packages/pandas/io/excel/_base.py\u001b[0m in \u001b[0;36mread_excel\u001b[0;34m(io, sheet_name, header, names, index_col, usecols, dtype, engine, converters, true_values, false_values, skiprows, nrows, na_values, keep_default_na, na_filter, verbose, parse_dates, date_parser, date_format, thousands, decimal, comment, skipfooter, storage_options, dtype_backend)\u001b[0m\n\u001b[1;32m    476\u001b[0m     \u001b[0;32mif\u001b[0m \u001b[0;32mnot\u001b[0m \u001b[0misinstance\u001b[0m\u001b[0;34m(\u001b[0m\u001b[0mio\u001b[0m\u001b[0;34m,\u001b[0m \u001b[0mExcelFile\u001b[0m\u001b[0;34m)\u001b[0m\u001b[0;34m:\u001b[0m\u001b[0;34m\u001b[0m\u001b[0;34m\u001b[0m\u001b[0m\n\u001b[1;32m    477\u001b[0m         \u001b[0mshould_close\u001b[0m \u001b[0;34m=\u001b[0m \u001b[0;32mTrue\u001b[0m\u001b[0;34m\u001b[0m\u001b[0;34m\u001b[0m\u001b[0m\n\u001b[0;32m--> 478\u001b[0;31m         \u001b[0mio\u001b[0m \u001b[0;34m=\u001b[0m \u001b[0mExcelFile\u001b[0m\u001b[0;34m(\u001b[0m\u001b[0mio\u001b[0m\u001b[0;34m,\u001b[0m \u001b[0mstorage_options\u001b[0m\u001b[0;34m=\u001b[0m\u001b[0mstorage_options\u001b[0m\u001b[0;34m,\u001b[0m \u001b[0mengine\u001b[0m\u001b[0;34m=\u001b[0m\u001b[0mengine\u001b[0m\u001b[0;34m)\u001b[0m\u001b[0;34m\u001b[0m\u001b[0;34m\u001b[0m\u001b[0m\n\u001b[0m\u001b[1;32m    479\u001b[0m     \u001b[0;32melif\u001b[0m \u001b[0mengine\u001b[0m \u001b[0;32mand\u001b[0m \u001b[0mengine\u001b[0m \u001b[0;34m!=\u001b[0m \u001b[0mio\u001b[0m\u001b[0;34m.\u001b[0m\u001b[0mengine\u001b[0m\u001b[0;34m:\u001b[0m\u001b[0;34m\u001b[0m\u001b[0;34m\u001b[0m\u001b[0m\n\u001b[1;32m    480\u001b[0m         raise ValueError(\n",
            "\u001b[0;32m/usr/local/lib/python3.10/dist-packages/pandas/io/excel/_base.py\u001b[0m in \u001b[0;36m__init__\u001b[0;34m(self, path_or_buffer, engine, storage_options)\u001b[0m\n\u001b[1;32m   1494\u001b[0m                 \u001b[0mext\u001b[0m \u001b[0;34m=\u001b[0m \u001b[0;34m\"xls\"\u001b[0m\u001b[0;34m\u001b[0m\u001b[0;34m\u001b[0m\u001b[0m\n\u001b[1;32m   1495\u001b[0m             \u001b[0;32melse\u001b[0m\u001b[0;34m:\u001b[0m\u001b[0;34m\u001b[0m\u001b[0;34m\u001b[0m\u001b[0m\n\u001b[0;32m-> 1496\u001b[0;31m                 ext = inspect_excel_format(\n\u001b[0m\u001b[1;32m   1497\u001b[0m                     \u001b[0mcontent_or_path\u001b[0m\u001b[0;34m=\u001b[0m\u001b[0mpath_or_buffer\u001b[0m\u001b[0;34m,\u001b[0m \u001b[0mstorage_options\u001b[0m\u001b[0;34m=\u001b[0m\u001b[0mstorage_options\u001b[0m\u001b[0;34m\u001b[0m\u001b[0;34m\u001b[0m\u001b[0m\n\u001b[1;32m   1498\u001b[0m                 )\n",
            "\u001b[0;32m/usr/local/lib/python3.10/dist-packages/pandas/io/excel/_base.py\u001b[0m in \u001b[0;36minspect_excel_format\u001b[0;34m(content_or_path, storage_options)\u001b[0m\n\u001b[1;32m   1369\u001b[0m         \u001b[0mcontent_or_path\u001b[0m \u001b[0;34m=\u001b[0m \u001b[0mBytesIO\u001b[0m\u001b[0;34m(\u001b[0m\u001b[0mcontent_or_path\u001b[0m\u001b[0;34m)\u001b[0m\u001b[0;34m\u001b[0m\u001b[0;34m\u001b[0m\u001b[0m\n\u001b[1;32m   1370\u001b[0m \u001b[0;34m\u001b[0m\u001b[0m\n\u001b[0;32m-> 1371\u001b[0;31m     with get_handle(\n\u001b[0m\u001b[1;32m   1372\u001b[0m         \u001b[0mcontent_or_path\u001b[0m\u001b[0;34m,\u001b[0m \u001b[0;34m\"rb\"\u001b[0m\u001b[0;34m,\u001b[0m \u001b[0mstorage_options\u001b[0m\u001b[0;34m=\u001b[0m\u001b[0mstorage_options\u001b[0m\u001b[0;34m,\u001b[0m \u001b[0mis_text\u001b[0m\u001b[0;34m=\u001b[0m\u001b[0;32mFalse\u001b[0m\u001b[0;34m\u001b[0m\u001b[0;34m\u001b[0m\u001b[0m\n\u001b[1;32m   1373\u001b[0m     ) as handle:\n",
            "\u001b[0;32m/usr/local/lib/python3.10/dist-packages/pandas/io/common.py\u001b[0m in \u001b[0;36mget_handle\u001b[0;34m(path_or_buf, mode, encoding, compression, memory_map, is_text, errors, storage_options)\u001b[0m\n\u001b[1;32m    866\u001b[0m         \u001b[0;32melse\u001b[0m\u001b[0;34m:\u001b[0m\u001b[0;34m\u001b[0m\u001b[0;34m\u001b[0m\u001b[0m\n\u001b[1;32m    867\u001b[0m             \u001b[0;31m# Binary mode\u001b[0m\u001b[0;34m\u001b[0m\u001b[0;34m\u001b[0m\u001b[0m\n\u001b[0;32m--> 868\u001b[0;31m             \u001b[0mhandle\u001b[0m \u001b[0;34m=\u001b[0m \u001b[0mopen\u001b[0m\u001b[0;34m(\u001b[0m\u001b[0mhandle\u001b[0m\u001b[0;34m,\u001b[0m \u001b[0mioargs\u001b[0m\u001b[0;34m.\u001b[0m\u001b[0mmode\u001b[0m\u001b[0;34m)\u001b[0m\u001b[0;34m\u001b[0m\u001b[0;34m\u001b[0m\u001b[0m\n\u001b[0m\u001b[1;32m    869\u001b[0m         \u001b[0mhandles\u001b[0m\u001b[0;34m.\u001b[0m\u001b[0mappend\u001b[0m\u001b[0;34m(\u001b[0m\u001b[0mhandle\u001b[0m\u001b[0;34m)\u001b[0m\u001b[0;34m\u001b[0m\u001b[0;34m\u001b[0m\u001b[0m\n\u001b[1;32m    870\u001b[0m \u001b[0;34m\u001b[0m\u001b[0m\n",
            "\u001b[0;31mFileNotFoundError\u001b[0m: [Errno 2] No such file or directory: '/content/식품영양성분DB_음식.xlsx'"
          ]
        }
      ]
    },
    {
      "cell_type": "markdown",
      "source": [
        "- 일일 섭취량과 일일 권장량 비교\n",
        " - 부족 과잉 적정"
      ],
      "metadata": {
        "id": "sCsaP5YLN4qu"
      }
    },
    {
      "cell_type": "code",
      "source": [
        "def compare_nutrition_intake(recommended_intake, daily_intake):\n",
        "  nutrition_status = {}\n",
        "\n",
        "  for nutrient, recommendation in recommended_intake.items():\n",
        "    daily = daily_intake.get(nutrient,0)\n",
        "\n",
        "    if daily < recommendation[0]:\n",
        "      status = \"부족\"\n",
        "    elif daily > recommendation[1]:\n",
        "      status = \"과잉\"\n",
        "    else:\n",
        "      status = \"적정\"\n",
        "\n",
        "    nutrition_status[nutrient] = status\n",
        "\n",
        "  return nutrition_status\n",
        "\n",
        "recommended_intake = {\n",
        "    \"단백질\" : (50,100),\n",
        "    \"탄수화물\" : (200,300),\n",
        "    \"지방\" : (50, 70),\n",
        "\n",
        "}\n",
        "\n",
        "daily_intake = {\n",
        "    \"단백질\" : 90,\n",
        "    \"탄수화물\" : 180,\n",
        "    \"지방\" : 80,\n",
        "\n",
        "}\n",
        "\n",
        "result = compare_nutrition_intake(recommended_intake, daily_intake)\n",
        "for nutrient, status in result.items():\n",
        "  print(f\"{nutrient}:{status}\")"
      ],
      "metadata": {
        "id": "fyj22BiJlRcS",
        "colab": {
          "base_uri": "https://localhost:8080/"
        },
        "outputId": "4e024f0f-85dc-4123-ef0a-183aff5836c7"
      },
      "execution_count": null,
      "outputs": [
        {
          "output_type": "stream",
          "name": "stdout",
          "text": [
            "단백질:적정\n",
            "탄수화물:부족\n",
            "지방:과잉\n"
          ]
        }
      ]
    }
  ]
}